{
 "cells": [
  {
   "cell_type": "markdown",
   "id": "c13f58cc",
   "metadata": {},
   "source": [
    "# 基于K-MEANS模型和RFM分类模型的订单交易用户价值分析"
   ]
  },
  {
   "cell_type": "markdown",
   "id": "14e23848-9ca7-464d-b02b-ef48308ea5d5",
   "metadata": {
    "tags": []
   },
   "source": [
    "## Introduction"
   ]
  },
  {
   "cell_type": "markdown",
   "id": "695e9b79",
   "metadata": {},
   "source": [
    "### 名词解释\n",
    "`K-MEANS聚类` 是一种无监督学习的聚类方法,它根据样本之间的相似度将样本分成 K 个簇,每个样本只属于一个簇。\n",
    "\n",
    "`RFM客户分类` 是根据客户的购买时间、购买频率和购买金额3个维度的趋势将客户分成不同细分层,每个客户可能属于多个层。\n",
    "\n",
    "`二者区别`\n",
    "- `K-MEANS聚类`是一种更广义的聚类方法,可以在任意数据集上进行聚类,但是结果的解释性较差。\n",
    "- `RFM客户分类` 是一种针对客户数据的特定聚类方法,它只考虑 3 个重要特征,但是结果的可解释性很好,不同层代表的客户类型很清晰。\n",
    "\n",
    "`适用场景`\n",
    "- 如果目的是发掘数据集中的潜在客户分类,而不仅限于已有的`RFM客户分类`，`K-MEANS聚类`会更合适。\n",
    "- 如果针对客户购买数据进行细分,并希望结果具有很强的解释性，`RFM客户分类`会更加实用。\n",
    "- 也可以先使用`K-MEANS聚类`对全部客户进行初步分类，然后在每个簇内分别使用`RFM客户分类`进行进一步细分，这样可以充分利用两种方法的优点。"
   ]
  },
  {
   "cell_type": "markdown",
   "id": "79161348",
   "metadata": {},
   "source": [
    "### 项目目的\n",
    "本项目旨在使用数据挖掘技术对客户进行分类，以实现精准营销。具体目的如下：\n",
    "\n",
    "- 使用`K-MEANS聚类`初步发现数据集中的大类客户群，为进一步客户细分提供参考。\n",
    "\n",
    "- 在每个大类内使用`RFM客户分类`细分，发挥`RFM客户分类`在表达性强和结果易解释这两个方面的优势。因为在同一大类内,客户的属性相近,所以`RFM客户分类`细分结果也比较容易理解。\n",
    "\n",
    "- 结合`K-MEANS聚类`和`RFM客户分类`两种方法的优势,进行全面而深入的客户分类，更好地了解客户需求和购买习惯，制定更针对性的营销策略，从而实现精准营销的目的。"
   ]
  },
  {
   "cell_type": "markdown",
   "id": "ac381536-51fc-4aef-b9c7-a530ca7c16c0",
   "metadata": {},
   "source": [
    "## Import Libraries"
   ]
  },
  {
   "cell_type": "code",
   "execution_count": 1,
   "id": "2e1d0295",
   "metadata": {
    "tags": [],
    "vscode": {
     "languageId": "python"
    }
   },
   "outputs": [],
   "source": [
    "import numpy as np \n",
    "import pandas as pd\n",
    "import seaborn as sns\n",
    "import matplotlib.pyplot as plt\n",
    "import datetime\n",
    "# 忽略警告提示\n",
    "import warnings\n",
    "warnings.filterwarnings('ignore')\n",
    "from sklearn.cluster import KMeans"
   ]
  },
  {
   "cell_type": "markdown",
   "id": "b01b2343-3c11-46c8-bf64-e1737826e773",
   "metadata": {
    "tags": []
   },
   "source": [
    "## Importing Data"
   ]
  },
  {
   "cell_type": "code",
   "execution_count": 2,
   "id": "1cc04ed1",
   "metadata": {
    "tags": [],
    "vscode": {
     "languageId": "python"
    }
   },
   "outputs": [],
   "source": [
    "# read data from CSV files\n",
    "df_initial = pd.read_csv('./data/data.csv',encoding=\"ISO-8859-1\",\n",
    "                         dtype={'CustomerID': str,'InvoiceID': str})\n",
    "data_df = df_initial.copy()"
   ]
  },
  {
   "cell_type": "markdown",
   "id": "53202dfd-6e90-4436-b05d-2e3da4cedcc7",
   "metadata": {},
   "source": [
    "## Exploring Data Analysis(EDA)"
   ]
  },
  {
   "cell_type": "markdown",
   "id": "5150c690-f0e9-47ab-8f78-8babf99baf29",
   "metadata": {},
   "source": [
    "### 查看数据信息"
   ]
  },
  {
   "cell_type": "code",
   "execution_count": 3,
   "id": "0e7d9b0f",
   "metadata": {
    "tags": [],
    "vscode": {
     "languageId": "python"
    }
   },
   "outputs": [
    {
     "name": "stdout",
     "output_type": "stream",
     "text": [
      "<class 'pandas.core.frame.DataFrame'>\n",
      "RangeIndex: 541909 entries, 0 to 541908\n",
      "Data columns (total 8 columns):\n",
      " #   Column       Non-Null Count   Dtype  \n",
      "---  ------       --------------   -----  \n",
      " 0   InvoiceNo    541909 non-null  object \n",
      " 1   StockCode    541909 non-null  object \n",
      " 2   Description  540455 non-null  object \n",
      " 3   Quantity     541909 non-null  int64  \n",
      " 4   InvoiceDate  541909 non-null  object \n",
      " 5   UnitPrice    541909 non-null  float64\n",
      " 6   CustomerID   406829 non-null  object \n",
      " 7   Country      541909 non-null  object \n",
      "dtypes: float64(1), int64(1), object(6)\n",
      "memory usage: 33.1+ MB\n"
     ]
    }
   ],
   "source": [
    "data_df.info()"
   ]
  },
  {
   "cell_type": "markdown",
   "id": "5d774085-2208-4353-b9ef-2c6d6a914bc2",
   "metadata": {
    "tags": []
   },
   "source": [
    "### 查看缺失值"
   ]
  },
  {
   "cell_type": "code",
   "execution_count": 4,
   "id": "80d7e9f9",
   "metadata": {
    "tags": [],
    "vscode": {
     "languageId": "python"
    }
   },
   "outputs": [
    {
     "name": "stdout",
     "output_type": "stream",
     "text": [
      "InvoiceNo       0.000000\n",
      "StockCode       0.000000\n",
      "Description     0.268311\n",
      "Quantity        0.000000\n",
      "InvoiceDate     0.000000\n",
      "UnitPrice       0.000000\n",
      "CustomerID     24.926694\n",
      "Country         0.000000\n",
      "dtype: float64\n",
      "InvoiceNo           0\n",
      "StockCode           0\n",
      "Description      1454\n",
      "Quantity            0\n",
      "InvoiceDate         0\n",
      "UnitPrice           0\n",
      "CustomerID     135080\n",
      "Country             0\n",
      "dtype: int64\n"
     ]
    }
   ],
   "source": [
    "print(data_df.isna().mean()*100)\n",
    "print(data_df.isna().sum())"
   ]
  },
  {
   "cell_type": "markdown",
   "id": "9178d024-76f6-4e16-830a-629da6448701",
   "metadata": {
    "tags": []
   },
   "source": [
    "### 查看重复值"
   ]
  },
  {
   "cell_type": "code",
   "execution_count": 5,
   "id": "857ff2f1",
   "metadata": {
    "vscode": {
     "languageId": "python"
    }
   },
   "outputs": [
    {
     "name": "stdout",
     "output_type": "stream",
     "text": [
      "重复的数据条目: 5268\n"
     ]
    }
   ],
   "source": [
    "print('重复的数据条目: {}'.format(data_df.duplicated().sum()))"
   ]
  },
  {
   "cell_type": "markdown",
   "id": "8d5263da-d8fd-4904-b237-82f75af3088e",
   "metadata": {
    "tags": []
   },
   "source": [
    "### 查看异常值"
   ]
  },
  {
   "cell_type": "code",
   "execution_count": 6,
   "id": "9b4f01c5",
   "metadata": {
    "vscode": {
     "languageId": "python"
    }
   },
   "outputs": [
    {
     "data": {
      "image/png": "[encoded data removed]",
      "text/plain": [
       "<Figure size 640x480 with 1 Axes>"
      ]
     },
     "metadata": {},
     "output_type": "display_data"
    }
   ],
   "source": [
    "sns.boxplot(data=data_df[['UnitPrice','Quantity']])\n",
    "plt.show()"
   ]
  },
  {
   "cell_type": "markdown",
   "id": "ca2fe119-dbe8-4615-9aea-df1e7da9eb3f",
   "metadata": {
    "tags": []
   },
   "source": [
    "## Data Cleaning"
   ]
  },
  {
   "cell_type": "markdown",
   "id": "6f401a21",
   "metadata": {},
   "source": [
    "### 缺失值处理"
   ]
  },
  {
   "cell_type": "markdown",
   "id": "58384450",
   "metadata": {},
   "source": [
    "CustomerID ~25%的数据记录为空的，这意味着有约25%的数据记录没有分配给任何客户。而我们目前没有数据可以将这些数据匹配到到任何客户。所以目前这些数据是没有用的，因此我们可以将其删除"
   ]
  },
  {
   "cell_type": "code",
   "execution_count": 7,
   "id": "4f2fce64",
   "metadata": {
    "vscode": {
     "languageId": "python"
    }
   },
   "outputs": [],
   "source": [
    "data_df.dropna(axis = 0, subset = ['CustomerID'],inplace = True)"
   ]
  },
  {
   "cell_type": "code",
   "execution_count": 8,
   "id": "dc57ece2-e27e-4e80-bfcd-4659cec623ff",
   "metadata": {},
   "outputs": [
    {
     "name": "stdout",
     "output_type": "stream",
     "text": [
      "InvoiceNo      0\n",
      "StockCode      0\n",
      "Description    0\n",
      "Quantity       0\n",
      "InvoiceDate    0\n",
      "UnitPrice      0\n",
      "CustomerID     0\n",
      "Country        0\n",
      "dtype: int64\n",
      "(406829, 8)\n"
     ]
    }
   ],
   "source": [
    "print(data_df.isna().sum())\n",
    "print(data_df.shape)"
   ]
  },
  {
   "cell_type": "markdown",
   "id": "f08ad72b",
   "metadata": {},
   "source": [
    "### 重复值处理\n",
    ">处理缺失值后，查看是否有重复值，有的话删除"
   ]
  },
  {
   "cell_type": "code",
   "execution_count": 9,
   "id": "4f34d485-534e-41f2-819d-bd45b9f6323d",
   "metadata": {
    "tags": []
   },
   "outputs": [],
   "source": [
    "data_df.drop_duplicates(inplace = True)"
   ]
  },
  {
   "cell_type": "markdown",
   "id": "10882716",
   "metadata": {},
   "source": [
    "### 异常值处理"
   ]
  },
  {
   "cell_type": "markdown",
   "id": "bbc6717c-ec06-4bc8-a527-03849c90424f",
   "metadata": {
    "tags": []
   },
   "source": [
    "#### <=0的记录"
   ]
  },
  {
   "cell_type": "code",
   "execution_count": 10,
   "id": "8415f8d8",
   "metadata": {
    "vscode": {
     "languageId": "python"
    }
   },
   "outputs": [
    {
     "name": "stdout",
     "output_type": "stream",
     "text": [
      "Quantity=0的个数：0\n",
      "Quantity<0的个数：8872\n"
     ]
    }
   ],
   "source": [
    "Quantity_zero_count = len(data_df[data_df['Quantity'] == 0])\n",
    "Quantity_nega_count = len(data_df[data_df['Quantity'] < 0])\n",
    "\n",
    "print(f'Quantity=0的个数：{Quantity_zero_count}\\nQuantity<0的个数：{Quantity_nega_count}')"
   ]
  },
  {
   "cell_type": "markdown",
   "id": "cbd04f67",
   "metadata": {},
   "source": [
    ">quantity不存在0值。quantity负值与正数对称，应该是退款，暂不考虑退款，将quantity负数值直接删除。"
   ]
  },
  {
   "cell_type": "code",
   "execution_count": 11,
   "id": "97c55065",
   "metadata": {
    "vscode": {
     "languageId": "python"
    }
   },
   "outputs": [],
   "source": [
    "data_df = data_df[data_df['Quantity'] > 0]"
   ]
  },
  {
   "cell_type": "code",
   "execution_count": 12,
   "id": "36d4eaae",
   "metadata": {
    "vscode": {
     "languageId": "python"
    }
   },
   "outputs": [
    {
     "name": "stdout",
     "output_type": "stream",
     "text": [
      "UnitPrice是0的个数：40\n"
     ]
    }
   ],
   "source": [
    "# 计算UnitPrice为0的数量\n",
    "UnitPrice_zero_count = len(data_df[data_df['UnitPrice'] == 0])\n",
    "print(f'UnitPrice是0的个数：{UnitPrice_zero_count}')"
   ]
  },
  {
   "cell_type": "markdown",
   "id": "579a054b",
   "metadata": {},
   "source": [
    ">UnitPrice不存在小于0的记录。等于 0 的记录，对模型没有影响，删除处理以减少数据复杂度。"
   ]
  },
  {
   "cell_type": "code",
   "execution_count": 13,
   "id": "1eb36081",
   "metadata": {
    "vscode": {
     "languageId": "python"
    }
   },
   "outputs": [],
   "source": [
    "data_df = data_df[data_df['UnitPrice'] > 0]"
   ]
  },
  {
   "cell_type": "markdown",
   "id": "90436e8a-af19-4977-8bed-4167561d7257",
   "metadata": {
    "tags": []
   },
   "source": [
    "#### Country\n",
    ">由于客户集群可能因地理位置而异，这里将数据限制为包含大多数客户数据的英国客户"
   ]
  },
  {
   "cell_type": "code",
   "execution_count": 14,
   "id": "25708f9c-4a7f-4828-a6aa-779380df02b4",
   "metadata": {
    "tags": []
   },
   "outputs": [
    {
     "data": {
      "text/plain": [
       "Country\n",
       "United Kingdom          0.889254\n",
       "Germany                 0.022982\n",
       "France                  0.021202\n",
       "EIRE                    0.018401\n",
       "Spain                   0.006313\n",
       "Netherlands             0.006007\n",
       "Belgium                 0.005172\n",
       "Switzerland             0.004688\n",
       "Portugal                0.003700\n",
       "Australia               0.003007\n",
       "Norway                  0.002727\n",
       "Italy                   0.001930\n",
       "Channel Islands         0.001902\n",
       "Finland                 0.001744\n",
       "Cyprus                  0.001536\n",
       "Sweden                  0.001146\n",
       "Austria                 0.001014\n",
       "Denmark                 0.000968\n",
       "Poland                  0.000840\n",
       "Japan                   0.000817\n",
       "Israel                  0.000624\n",
       "Unspecified             0.000614\n",
       "Singapore               0.000565\n",
       "Iceland                 0.000463\n",
       "USA                     0.000456\n",
       "Canada                  0.000385\n",
       "Greece                  0.000369\n",
       "Malta                   0.000285\n",
       "United Arab Emirates    0.000173\n",
       "European Community      0.000153\n",
       "RSA                     0.000145\n",
       "Lebanon                 0.000115\n",
       "Lithuania               0.000089\n",
       "Brazil                  0.000081\n",
       "Czech Republic          0.000064\n",
       "Bahrain                 0.000043\n",
       "Saudi Arabia            0.000023\n",
       "Name: proportion, dtype: float64"
      ]
     },
     "execution_count": 14,
     "metadata": {},
     "output_type": "execute_result"
    }
   ],
   "source": [
    "data_df.Country.value_counts(normalize=True) "
   ]
  },
  {
   "cell_type": "code",
   "execution_count": 15,
   "id": "f31dbc58-ab1c-4212-82ec-55f362eb9436",
   "metadata": {
    "tags": []
   },
   "outputs": [],
   "source": [
    "data_df = data_df[data_df.Country == 'United Kingdom']"
   ]
  },
  {
   "cell_type": "markdown",
   "id": "c82fc88f",
   "metadata": {},
   "source": [
    "### 数据类型\n",
    ">将 \"InvoiceDate\" 列转换为日期格式,方便后续计算使用"
   ]
  },
  {
   "cell_type": "code",
   "execution_count": 16,
   "id": "c23355aa",
   "metadata": {
    "vscode": {
     "languageId": "python"
    }
   },
   "outputs": [],
   "source": [
    "data_df['InvoiceDate'] = pd.to_datetime(data_df['InvoiceDate'])"
   ]
  },
  {
   "cell_type": "markdown",
   "id": "ad043f77",
   "metadata": {},
   "source": [
    "## RFM数据预处理"
   ]
  },
  {
   "cell_type": "code",
   "execution_count": 17,
   "id": "af27f47a",
   "metadata": {
    "vscode": {
     "languageId": "python"
    }
   },
   "outputs": [
    {
     "name": "stdout",
     "output_type": "stream",
     "text": [
      "<class 'pandas.core.frame.DataFrame'>\n",
      "Index: 349203 entries, 0 to 541893\n",
      "Data columns (total 8 columns):\n",
      " #   Column       Non-Null Count   Dtype         \n",
      "---  ------       --------------   -----         \n",
      " 0   InvoiceNo    349203 non-null  object        \n",
      " 1   StockCode    349203 non-null  object        \n",
      " 2   Description  349203 non-null  object        \n",
      " 3   Quantity     349203 non-null  int64         \n",
      " 4   InvoiceDate  349203 non-null  datetime64[ns]\n",
      " 5   UnitPrice    349203 non-null  float64       \n",
      " 6   CustomerID   349203 non-null  object        \n",
      " 7   Country      349203 non-null  object        \n",
      "dtypes: datetime64[ns](1), float64(1), int64(1), object(5)\n",
      "memory usage: 24.0+ MB\n",
      "None\n",
      "3920\n"
     ]
    }
   ],
   "source": [
    "print(data_df.info())\n",
    "print(len(data_df['CustomerID'].unique()))"
   ]
  },
  {
   "cell_type": "markdown",
   "id": "48fc5a57-a78d-43ae-ac64-81e00d79a296",
   "metadata": {
    "tags": []
   },
   "source": [
    "### Recency\n",
    ">计算每个客户最近一次距今的天数"
   ]
  },
  {
   "cell_type": "code",
   "execution_count": 18,
   "id": "316b6e74",
   "metadata": {
    "vscode": {
     "languageId": "python"
    }
   },
   "outputs": [],
   "source": [
    "inoviceDate_df = data_df.groupby('CustomerID')['InvoiceDate'].max().reset_index()\n",
    "\n",
    "recency_df = pd.DataFrame(columns=['CustomerID', 'Recency'])\n",
    "recency_df['CustomerID'] = inoviceDate_df['CustomerID']\n",
    "\n",
    "# 实际业务中通常是根据当前日期计算\n",
    "# today = pd.Timestamp(datetime.date.today())\n",
    "# 因为本项目数据久远，以数据中最新日期的月底日期计算Recency\n",
    "invoice_date = inoviceDate_df['InvoiceDate'].max()\n",
    "latest_date = pd.Timestamp(year=invoice_date.year, month=invoice_date.month, day=pd.Period(invoice_date, freq='M').days_in_month)\n",
    "# latest date - customer latest date = Recency\n",
    "recency_df['Recency'] = (latest_date - inoviceDate_df['InvoiceDate']).dt.days"
   ]
  },
  {
   "cell_type": "markdown",
   "id": "2fa86b93-1628-4051-99f6-c2cf16b53584",
   "metadata": {
    "tags": []
   },
   "source": [
    "#### 查看Recency的分布"
   ]
  },
  {
   "cell_type": "code",
   "execution_count": 19,
   "id": "5bc0cd9b-7e24-4356-b2b9-2f0e71d59716",
   "metadata": {
    "tags": []
   },
   "outputs": [
    {
     "data": {
      "image/png": "[encoded data removed]",
      "text/plain": [
       "<Figure size 640x480 with 1 Axes>"
      ]
     },
     "metadata": {},
     "output_type": "display_data"
    }
   ],
   "source": [
    " # 创建箱线图\n",
    "sns.boxplot(data=recency_df)\n",
    "\n",
    "# 添加标题和坐标轴标签\n",
    "plt.title('Standardized RFM Data')\n",
    "plt.xlabel('Features')\n",
    "plt.ylabel('Normalized Values')\n",
    "\n",
    "# 显示图像\n",
    "plt.show()"
   ]
  },
  {
   "cell_type": "code",
   "execution_count": 20,
   "id": "dff19ecb",
   "metadata": {
    "vscode": {
     "languageId": "python"
    }
   },
   "outputs": [
    {
     "data": {
      "text/html": [
       "<div>\n",
       "<style scoped>\n",
       "    .dataframe tbody tr th:only-of-type {\n",
       "        vertical-align: middle;\n",
       "    }\n",
       "\n",
       "    .dataframe tbody tr th {\n",
       "        vertical-align: top;\n",
       "    }\n",
       "\n",
       "    .dataframe thead th {\n",
       "        text-align: right;\n",
       "    }\n",
       "</style>\n",
       "<table border=\"1\" class=\"dataframe\">\n",
       "  <thead>\n",
       "    <tr style=\"text-align: right;\">\n",
       "      <th></th>\n",
       "      <th>Recency</th>\n",
       "    </tr>\n",
       "  </thead>\n",
       "  <tbody>\n",
       "    <tr>\n",
       "      <th>count</th>\n",
       "      <td>3920.000000</td>\n",
       "    </tr>\n",
       "    <tr>\n",
       "      <th>mean</th>\n",
       "      <td>112.742092</td>\n",
       "    </tr>\n",
       "    <tr>\n",
       "      <th>std</th>\n",
       "      <td>99.533485</td>\n",
       "    </tr>\n",
       "    <tr>\n",
       "      <th>min</th>\n",
       "      <td>21.000000</td>\n",
       "    </tr>\n",
       "    <tr>\n",
       "      <th>25%</th>\n",
       "      <td>38.000000</td>\n",
       "    </tr>\n",
       "    <tr>\n",
       "      <th>50%</th>\n",
       "      <td>71.000000</td>\n",
       "    </tr>\n",
       "    <tr>\n",
       "      <th>75%</th>\n",
       "      <td>163.000000</td>\n",
       "    </tr>\n",
       "    <tr>\n",
       "      <th>max</th>\n",
       "      <td>394.000000</td>\n",
       "    </tr>\n",
       "  </tbody>\n",
       "</table>\n",
       "</div>"
      ],
      "text/plain": [
       "           Recency\n",
       "count  3920.000000\n",
       "mean    112.742092\n",
       "std      99.533485\n",
       "min      21.000000\n",
       "25%      38.000000\n",
       "50%      71.000000\n",
       "75%     163.000000\n",
       "max     394.000000"
      ]
     },
     "execution_count": 20,
     "metadata": {},
     "output_type": "execute_result"
    }
   ],
   "source": [
    "recency_df.describe()"
   ]
  },
  {
   "cell_type": "markdown",
   "id": "9d771680-3002-49a9-8e1a-a90e19e27a9b",
   "metadata": {
    "tags": []
   },
   "source": [
    "#### 可视化"
   ]
  },
  {
   "cell_type": "code",
   "execution_count": 21,
   "id": "b12801f8",
   "metadata": {
    "vscode": {
     "languageId": "python"
    }
   },
   "outputs": [
    {
     "data": {
      "image/png": "[encoded data removed]",
      "text/plain": [
       "<Figure size 640x480 with 1 Axes>"
      ]
     },
     "metadata": {},
     "output_type": "display_data"
    }
   ],
   "source": [
    "sns.histplot(data=recency_df, x='Recency', bins=100)\n",
    "plt.show()"
   ]
  },
  {
   "cell_type": "markdown",
   "id": "96dfb987-56de-4976-b4a7-473940f1ce48",
   "metadata": {},
   "source": [
    "### Frequency\n",
    ">统计数据时间内每个客户的订单数量作为Frequency"
   ]
  },
  {
   "cell_type": "code",
   "execution_count": 22,
   "id": "810f2544",
   "metadata": {
    "vscode": {
     "languageId": "python"
    }
   },
   "outputs": [],
   "source": [
    "# 计算每个客户的频率\n",
    "# 根据业务需求确认时间段（1month/3months/6months/1year），筛选客户的消费频率，因数据久远，用数据全时段的总消费次数作为消费频率\n",
    "frequency_df = data_df.groupby('CustomerID')['InvoiceNo'].nunique().reset_index()\n",
    "frequency_df.columns = ['CustomerID', 'Frequency']"
   ]
  },
  {
   "cell_type": "markdown",
   "id": "91fd00aa-4507-441d-a22e-1f03ff9cd623",
   "metadata": {},
   "source": [
    "#### 查看Frequency的分布"
   ]
  },
  {
   "cell_type": "code",
   "execution_count": 23,
   "id": "7e67cae7-a2ab-4292-a533-d2a085512bcf",
   "metadata": {
    "tags": []
   },
   "outputs": [
    {
     "data": {
      "image/png": "[encoded data removed]",
      "text/plain": [
       "<Figure size 640x480 with 1 Axes>"
      ]
     },
     "metadata": {},
     "output_type": "display_data"
    }
   ],
   "source": [
    "# 创建箱线图\n",
    "sns.boxplot(data=frequency_df)\n",
    "\n",
    "# 添加标题和坐标轴标签\n",
    "plt.title('Standardized RFM Data')\n",
    "plt.xlabel('Features')\n",
    "plt.ylabel('Normalized Values')\n",
    "\n",
    "# 显示图像\n",
    "plt.show()"
   ]
  },
  {
   "cell_type": "code",
   "execution_count": 24,
   "id": "2a5b3acc-44bd-45a3-b5ea-923acd0fac9d",
   "metadata": {
    "tags": []
   },
   "outputs": [
    {
     "data": {
      "text/html": [
       "<div>\n",
       "<style scoped>\n",
       "    .dataframe tbody tr th:only-of-type {\n",
       "        vertical-align: middle;\n",
       "    }\n",
       "\n",
       "    .dataframe tbody tr th {\n",
       "        vertical-align: top;\n",
       "    }\n",
       "\n",
       "    .dataframe thead th {\n",
       "        text-align: right;\n",
       "    }\n",
       "</style>\n",
       "<table border=\"1\" class=\"dataframe\">\n",
       "  <thead>\n",
       "    <tr style=\"text-align: right;\">\n",
       "      <th></th>\n",
       "      <th>Frequency</th>\n",
       "    </tr>\n",
       "  </thead>\n",
       "  <tbody>\n",
       "    <tr>\n",
       "      <th>count</th>\n",
       "      <td>3920.000000</td>\n",
       "    </tr>\n",
       "    <tr>\n",
       "      <th>mean</th>\n",
       "      <td>4.246429</td>\n",
       "    </tr>\n",
       "    <tr>\n",
       "      <th>std</th>\n",
       "      <td>7.199202</td>\n",
       "    </tr>\n",
       "    <tr>\n",
       "      <th>min</th>\n",
       "      <td>1.000000</td>\n",
       "    </tr>\n",
       "    <tr>\n",
       "      <th>25%</th>\n",
       "      <td>1.000000</td>\n",
       "    </tr>\n",
       "    <tr>\n",
       "      <th>50%</th>\n",
       "      <td>2.000000</td>\n",
       "    </tr>\n",
       "    <tr>\n",
       "      <th>75%</th>\n",
       "      <td>5.000000</td>\n",
       "    </tr>\n",
       "    <tr>\n",
       "      <th>max</th>\n",
       "      <td>209.000000</td>\n",
       "    </tr>\n",
       "  </tbody>\n",
       "</table>\n",
       "</div>"
      ],
      "text/plain": [
       "         Frequency\n",
       "count  3920.000000\n",
       "mean      4.246429\n",
       "std       7.199202\n",
       "min       1.000000\n",
       "25%       1.000000\n",
       "50%       2.000000\n",
       "75%       5.000000\n",
       "max     209.000000"
      ]
     },
     "execution_count": 24,
     "metadata": {},
     "output_type": "execute_result"
    }
   ],
   "source": [
    "frequency_df.describe()"
   ]
  },
  {
   "cell_type": "markdown",
   "id": "ef324719-f99d-4d7a-883a-e11b966e26bf",
   "metadata": {
    "tags": []
   },
   "source": [
    "#### 可视化"
   ]
  },
  {
   "cell_type": "code",
   "execution_count": 25,
   "id": "6975fb21",
   "metadata": {
    "vscode": {
     "languageId": "python"
    }
   },
   "outputs": [
    {
     "data": {
      "image/png": "[encoded data removed]",
      "text/plain": [
       "<Figure size 640x480 with 1 Axes>"
      ]
     },
     "metadata": {},
     "output_type": "display_data"
    }
   ],
   "source": [
    "sns.histplot(data=frequency_df[frequency_df['Frequency']<30], x='Frequency', bins=60)\n",
    "plt.show()"
   ]
  },
  {
   "cell_type": "markdown",
   "id": "95a129d1-351b-4d15-ba5c-8ab9f868b734",
   "metadata": {},
   "source": [
    "### Monetary\n",
    ">统计数据时间内每个客户的总订单金额作为Monetary"
   ]
  },
  {
   "cell_type": "code",
   "execution_count": 26,
   "id": "44bb1c89",
   "metadata": {
    "vscode": {
     "languageId": "python"
    }
   },
   "outputs": [],
   "source": [
    "# 计算每个客户的消费金额\n",
    "# 同理，根据业务需求确认时间段（1month/3months/6months/1year），筛选客户的消费频率，次数用数据全时段的总消费金额作为Monetary\n",
    "data_df['Monetary'] = data_df['Quantity'] * data_df['UnitPrice']\n",
    "monetary_df = data_df.groupby('CustomerID')['Monetary'].sum().reset_index()\n",
    "# 保留Monetary列的值到小数点后两位\n",
    "monetary_df['Monetary'] = monetary_df['Monetary'].round(2)"
   ]
  },
  {
   "cell_type": "markdown",
   "id": "37bb18b1-3749-45ef-ade2-729d0962456e",
   "metadata": {},
   "source": [
    "#### 查看Monetary分布"
   ]
  },
  {
   "cell_type": "code",
   "execution_count": 27,
   "id": "ae8a13a0-c632-4044-ad1b-d5398c073466",
   "metadata": {
    "tags": []
   },
   "outputs": [
    {
     "data": {
      "image/png": "[encoded data removed]",
      "text/plain": [
       "<Figure size 640x480 with 1 Axes>"
      ]
     },
     "metadata": {},
     "output_type": "display_data"
    }
   ],
   "source": [
    "# 创建箱线图\n",
    "sns.boxplot(data=monetary_df)\n",
    "# 添加标题和坐标轴标签\n",
    "plt.title('Standardized RFM Data')\n",
    "plt.xlabel('Features')\n",
    "plt.ylabel('Normalized Values')\n",
    "\n",
    "# 显示图像\n",
    "plt.show()"
   ]
  },
  {
   "cell_type": "code",
   "execution_count": 28,
   "id": "fbde87f6-1b00-44f4-be9b-6d2c5988a7fd",
   "metadata": {},
   "outputs": [
    {
     "data": {
      "text/html": [
       "<div>\n",
       "<style scoped>\n",
       "    .dataframe tbody tr th:only-of-type {\n",
       "        vertical-align: middle;\n",
       "    }\n",
       "\n",
       "    .dataframe tbody tr th {\n",
       "        vertical-align: top;\n",
       "    }\n",
       "\n",
       "    .dataframe thead th {\n",
       "        text-align: right;\n",
       "    }\n",
       "</style>\n",
       "<table border=\"1\" class=\"dataframe\">\n",
       "  <thead>\n",
       "    <tr style=\"text-align: right;\">\n",
       "      <th></th>\n",
       "      <th>Monetary</th>\n",
       "    </tr>\n",
       "  </thead>\n",
       "  <tbody>\n",
       "    <tr>\n",
       "      <th>count</th>\n",
       "      <td>3920.000000</td>\n",
       "    </tr>\n",
       "    <tr>\n",
       "      <th>mean</th>\n",
       "      <td>1858.424653</td>\n",
       "    </tr>\n",
       "    <tr>\n",
       "      <th>std</th>\n",
       "      <td>7478.631256</td>\n",
       "    </tr>\n",
       "    <tr>\n",
       "      <th>min</th>\n",
       "      <td>3.750000</td>\n",
       "    </tr>\n",
       "    <tr>\n",
       "      <th>25%</th>\n",
       "      <td>298.185000</td>\n",
       "    </tr>\n",
       "    <tr>\n",
       "      <th>50%</th>\n",
       "      <td>644.975000</td>\n",
       "    </tr>\n",
       "    <tr>\n",
       "      <th>75%</th>\n",
       "      <td>1571.285000</td>\n",
       "    </tr>\n",
       "    <tr>\n",
       "      <th>max</th>\n",
       "      <td>259657.300000</td>\n",
       "    </tr>\n",
       "  </tbody>\n",
       "</table>\n",
       "</div>"
      ],
      "text/plain": [
       "            Monetary\n",
       "count    3920.000000\n",
       "mean     1858.424653\n",
       "std      7478.631256\n",
       "min         3.750000\n",
       "25%       298.185000\n",
       "50%       644.975000\n",
       "75%      1571.285000\n",
       "max    259657.300000"
      ]
     },
     "execution_count": 28,
     "metadata": {},
     "output_type": "execute_result"
    }
   ],
   "source": [
    "monetary_df.describe()"
   ]
  },
  {
   "cell_type": "markdown",
   "id": "808a7976-f9f6-4d10-ab4a-0c650f9d7ad6",
   "metadata": {},
   "source": [
    "#### 可视化"
   ]
  },
  {
   "cell_type": "code",
   "execution_count": 29,
   "id": "425ebdb8",
   "metadata": {
    "vscode": {
     "languageId": "python"
    }
   },
   "outputs": [
    {
     "data": {
      "image/png": "[encoded data removed]",
      "text/plain": [
       "<Figure size 640x480 with 1 Axes>"
      ]
     },
     "metadata": {},
     "output_type": "display_data"
    }
   ],
   "source": [
    "sns.histplot(data=monetary_df[monetary_df['Monetary']<1800], x='Monetary', bins=180)\n",
    "plt.show()"
   ]
  },
  {
   "cell_type": "code",
   "execution_count": null,
   "id": "24c7fe98-ba1a-4f16-8741-63f3474bc14b",
   "metadata": {},
   "outputs": [],
   "source": []
  },
  {
   "cell_type": "markdown",
   "id": "16e6f7c2-d41e-4183-8ed5-509c47f24f60",
   "metadata": {},
   "source": [
    "### Customer RFM\n",
    ">合并获取RFM的数据集"
   ]
  },
  {
   "cell_type": "code",
   "execution_count": 30,
   "id": "aa1c4f25",
   "metadata": {
    "vscode": {
     "languageId": "python"
    }
   },
   "outputs": [],
   "source": [
    "# 将三个 DataFrame 按照 CustomerID 列进行合并\n",
    "rf_df = pd.merge(recency_df, frequency_df, on='CustomerID', how='inner')\n",
    "seg_df = pd.merge(rf_df, monetary_df, on='CustomerID', how='inner')\n",
    "ks_df = seg_df.copy()"
   ]
  },
  {
   "cell_type": "markdown",
   "id": "bd55ce54-2f97-45e1-ac22-6913aac32205",
   "metadata": {
    "tags": []
   },
   "source": [
    "### RFM指标相关性分析"
   ]
  },
  {
   "cell_type": "markdown",
   "id": "d07434fa",
   "metadata": {},
   "source": [
    "#### 归一化处理"
   ]
  },
  {
   "cell_type": "code",
   "execution_count": 31,
   "id": "cfebed2b-7a67-4b3f-bb77-1a471ff3af5f",
   "metadata": {
    "tags": []
   },
   "outputs": [],
   "source": [
    "from sklearn.preprocessing import Normalizer\n",
    "\n",
    "ks_normalized_df = ks_df.copy()\n",
    "# 创建 Normalizer 对象\n",
    "normalizer = Normalizer()\n",
    "\n",
    "# 选取需要处理的列\n",
    "col_names = ['Recency', 'Frequency','Monetary']\n",
    "rfm_normalized = ks_df[col_names]\n",
    "\n",
    "# 对选定列进行 L2 归一化处理\n",
    "rfm_normalized_array = normalizer.fit_transform(ks_df[col_names])\n",
    "ks_normalized_df[['Recency', 'Frequency','Monetary']] = pd.DataFrame(rfm_normalized_array)\n",
    "# rfm_normalized.columns = col_names"
   ]
  },
  {
   "cell_type": "code",
   "execution_count": 32,
   "id": "16a7cc04-d8d0-4c4f-9aa1-404896999622",
   "metadata": {
    "tags": []
   },
   "outputs": [
    {
     "data": {
      "text/html": [
       "<div>\n",
       "<style scoped>\n",
       "    .dataframe tbody tr th:only-of-type {\n",
       "        vertical-align: middle;\n",
       "    }\n",
       "\n",
       "    .dataframe tbody tr th {\n",
       "        vertical-align: top;\n",
       "    }\n",
       "\n",
       "    .dataframe thead th {\n",
       "        text-align: right;\n",
       "    }\n",
       "</style>\n",
       "<table border=\"1\" class=\"dataframe\">\n",
       "  <thead>\n",
       "    <tr style=\"text-align: right;\">\n",
       "      <th></th>\n",
       "      <th>CustomerID</th>\n",
       "      <th>Recency</th>\n",
       "      <th>Frequency</th>\n",
       "      <th>Monetary</th>\n",
       "    </tr>\n",
       "  </thead>\n",
       "  <tbody>\n",
       "    <tr>\n",
       "      <th>3361</th>\n",
       "      <td>17516</td>\n",
       "      <td>0.047013</td>\n",
       "      <td>0.006530</td>\n",
       "      <td>0.998873</td>\n",
       "    </tr>\n",
       "    <tr>\n",
       "      <th>3804</th>\n",
       "      <td>18129</td>\n",
       "      <td>0.919886</td>\n",
       "      <td>0.003484</td>\n",
       "      <td>0.392171</td>\n",
       "    </tr>\n",
       "    <tr>\n",
       "      <th>1978</th>\n",
       "      <td>15596</td>\n",
       "      <td>0.085707</td>\n",
       "      <td>0.003542</td>\n",
       "      <td>0.996314</td>\n",
       "    </tr>\n",
       "    <tr>\n",
       "      <th>2896</th>\n",
       "      <td>16849</td>\n",
       "      <td>0.856809</td>\n",
       "      <td>0.004139</td>\n",
       "      <td>0.515617</td>\n",
       "    </tr>\n",
       "    <tr>\n",
       "      <th>3664</th>\n",
       "      <td>17934</td>\n",
       "      <td>0.101706</td>\n",
       "      <td>0.002825</td>\n",
       "      <td>0.994811</td>\n",
       "    </tr>\n",
       "    <tr>\n",
       "      <th>2178</th>\n",
       "      <td>15860</td>\n",
       "      <td>0.063074</td>\n",
       "      <td>0.008272</td>\n",
       "      <td>0.997975</td>\n",
       "    </tr>\n",
       "    <tr>\n",
       "      <th>3861</th>\n",
       "      <td>18210</td>\n",
       "      <td>0.008392</td>\n",
       "      <td>0.002289</td>\n",
       "      <td>0.999962</td>\n",
       "    </tr>\n",
       "    <tr>\n",
       "      <th>2420</th>\n",
       "      <td>16200</td>\n",
       "      <td>0.023383</td>\n",
       "      <td>0.001871</td>\n",
       "      <td>0.999725</td>\n",
       "    </tr>\n",
       "    <tr>\n",
       "      <th>3622</th>\n",
       "      <td>17880</td>\n",
       "      <td>0.642709</td>\n",
       "      <td>0.001669</td>\n",
       "      <td>0.766109</td>\n",
       "    </tr>\n",
       "    <tr>\n",
       "      <th>1824</th>\n",
       "      <td>15385</td>\n",
       "      <td>0.189030</td>\n",
       "      <td>0.003099</td>\n",
       "      <td>0.981966</td>\n",
       "    </tr>\n",
       "  </tbody>\n",
       "</table>\n",
       "</div>"
      ],
      "text/plain": [
       "     CustomerID   Recency  Frequency  Monetary\n",
       "3361      17516  0.047013   0.006530  0.998873\n",
       "3804      18129  0.919886   0.003484  0.392171\n",
       "1978      15596  0.085707   0.003542  0.996314\n",
       "2896      16849  0.856809   0.004139  0.515617\n",
       "3664      17934  0.101706   0.002825  0.994811\n",
       "2178      15860  0.063074   0.008272  0.997975\n",
       "3861      18210  0.008392   0.002289  0.999962\n",
       "2420      16200  0.023383   0.001871  0.999725\n",
       "3622      17880  0.642709   0.001669  0.766109\n",
       "1824      15385  0.189030   0.003099  0.981966"
      ]
     },
     "execution_count": 32,
     "metadata": {},
     "output_type": "execute_result"
    }
   ],
   "source": [
    "ks_normalized_df.sample(10)\n",
    "# rfm_normalized_df"
   ]
  },
  {
   "cell_type": "markdown",
   "id": "47cd590b-cd71-4d6b-92d3-a5db019d09a6",
   "metadata": {
    "tags": []
   },
   "source": [
    "#### Person系数"
   ]
  },
  {
   "cell_type": "code",
   "execution_count": 33,
   "id": "55edf3ca-9817-4529-8678-09f85530c7d9",
   "metadata": {
    "tags": []
   },
   "outputs": [
    {
     "data": {
      "image/png": "[encoded data removed]",
      "text/plain": [
       "<Figure size 640x480 with 2 Axes>"
      ]
     },
     "metadata": {},
     "output_type": "display_data"
    }
   ],
   "source": [
    "# 计算相关系数\n",
    "corr_matrix = ks_normalized_df[['Recency', 'Frequency', 'Monetary']].corr()\n",
    "\n",
    "# 可视化分析\n",
    "sns.heatmap(corr_matrix, annot=True, cmap=\"YlGnBu\")\n",
    "\n",
    "# 显示图表\n",
    "plt.show()"
   ]
  },
  {
   "cell_type": "markdown",
   "id": "caf7b661-8ed1-4681-b047-1ee2d7f16ef6",
   "metadata": {},
   "source": [
    ">从图中可以看出 Recncy和Monetary的相关性最高，Recncy和Frequency的相关性次之，Frequency和Monetary的相关性最低。"
   ]
  },
  {
   "cell_type": "markdown",
   "id": "2d7aa2dc-6ce0-4cab-adb1-fd988e35cafd",
   "metadata": {
    "tags": []
   },
   "source": [
    "## Kmeans Segment"
   ]
  },
  {
   "cell_type": "markdown",
   "id": "b25376da-d861-470d-b637-4d21d77442c6",
   "metadata": {},
   "source": [
    "对 R、F、M 分别进行K-means无监算法督分类，尝试对三者分类的结合进行解释。"
   ]
  },
  {
   "cell_type": "markdown",
   "id": "0a2f5bb8-8e05-4cc1-9e87-cbdaba231800",
   "metadata": {
    "tags": []
   },
   "source": [
    "### Exploring Best K"
   ]
  },
  {
   "cell_type": "code",
   "execution_count": 34,
   "id": "977d0c30-cab5-44c6-9454-4e854c9cd69f",
   "metadata": {
    "tags": []
   },
   "outputs": [
    {
     "data": {
      "image/png": "[encoded data removed]",
      "text/plain": [
       "<Figure size 640x480 with 1 Axes>"
      ]
     },
     "metadata": {},
     "output_type": "display_data"
    },
    {
     "data": {
      "image/png": "[encoded data removed]",
      "text/plain": [
       "<Figure size 640x480 with 1 Axes>"
      ]
     },
     "metadata": {},
     "output_type": "display_data"
    },
    {
     "data": {
      "image/png": "[encoded data removed]",
      "text/plain": [
       "<Figure size 640x480 with 1 Axes>"
      ]
     },
     "metadata": {},
     "output_type": "display_data"
    }
   ],
   "source": [
    "# Elbow Curve\n",
    "selected_features = ['Recency','Frequency','Monetary']\n",
    "\n",
    "for feature in selected_features:\n",
    "    wcss = []\n",
    "    for i in range(2,9):\n",
    "        kmeans = KMeans(n_clusters=i, init='k-means++',random_state=0, max_iter=50)\n",
    "        kmeans.fit(ks_normalized_df[[feature]])\n",
    "        wcss.append(kmeans.inertia_)\n",
    "\n",
    "    sns.lineplot(x=range(2, 9), y=wcss)\n",
    "    plt.title(f'Elbow Method of {feature}')\n",
    "    plt.xlabel('Number of Clusters (k)')\n",
    "    plt.ylabel('WCSS')\n",
    "    plt.show()"
   ]
  },
  {
   "cell_type": "markdown",
   "id": "cfed154a-ef72-4fee-b4e2-85a602d4dfe8",
   "metadata": {},
   "source": [
    "根据Elbow Curve图，选取K=3。实际工作中，根据业务和解释性需求确认clusters数量"
   ]
  },
  {
   "cell_type": "markdown",
   "id": "0b220241-cd41-4467-beaa-bbcaffe13023",
   "metadata": {
    "tags": []
   },
   "source": [
    "### Segment of R、F、M"
   ]
  },
  {
   "cell_type": "code",
   "execution_count": 35,
   "id": "8df55d01",
   "metadata": {
    "tags": [],
    "vscode": {
     "languageId": "python"
    }
   },
   "outputs": [],
   "source": [
    "for feature in selected_features:\n",
    "    kmeans = KMeans(n_clusters=3,random_state=0)\n",
    "    ks_df[feature+'-Cluster'] = kmeans.fit_predict(ks_df[[feature]])\n",
    "    # ks_df[feature+'-Cluster'] = kmeans.labels_\n",
    "    ks_normalized_df[feature+'-Cluster'] =  ks_df[feature+'-Cluster']"
   ]
  },
  {
   "cell_type": "code",
   "execution_count": 36,
   "id": "e02f8d01",
   "metadata": {
    "tags": [],
    "vscode": {
     "languageId": "python"
    }
   },
   "outputs": [
    {
     "name": "stdout",
     "output_type": "stream",
     "text": [
      "Recency的区间范围是[21,394]\n",
      "Recency的三个分类中，Cluster0区间范围是[21,114]\n",
      "Recency的三个分类中，Cluster1区间范围是[246,394]\n",
      "Recency的三个分类中，Cluster2区间范围是[115,243]\n",
      "==============================================\n",
      "Frequency的区间范围是[1,209]\n",
      "Frequency的三个分类中，Cluster0区间范围是[1,12]\n",
      "Frequency的三个分类中，Cluster1区间范围是[13,63]\n",
      "Frequency的三个分类中，Cluster2区间范围是[86,209]\n",
      "===============================================\n",
      "Monetary的区间范围是[3.75,259657.3]\n",
      "Monetary的三个分类中，Cluster0区间范围是[3.75,21086.3]\n",
      "Monetary的三个分类中，Cluster1区间范围是[168472.5,259657.3]\n",
      "Monetary的三个分类中，Cluster2区间范围是[25977.16,91062.38]\n",
      "=========================================================\n"
     ]
    }
   ],
   "source": [
    "for feature in ['Recency','Frequency','Monetary']:\n",
    "    print(f\"{feature}的区间范围是[{ks_df[feature].min()},{ks_df[feature].max()}]\")\n",
    "    for cluster in range(3):\n",
    "        min_n = ks_df[ks_df[feature+'-Cluster']==cluster][feature].min()\n",
    "        max_n = ks_df[ks_df[feature+'-Cluster']==cluster][feature].max()\n",
    "        text_ouput = f\"{feature}的三个分类中，Cluster{cluster}区间范围是[{min_n},{max_n}]\"\n",
    "        print(text_ouput)\n",
    "    print('='*(len(text_ouput)+10))"
   ]
  },
  {
   "cell_type": "markdown",
   "id": "ca8366b5-c4d7-4129-914f-e537d51a746e",
   "metadata": {
    "tags": []
   },
   "source": [
    "根据RFM模型进行记分"
   ]
  },
  {
   "cell_type": "code",
   "execution_count": 37,
   "id": "d3fabe36-8480-4c6a-acec-5be4e1aff246",
   "metadata": {
    "tags": []
   },
   "outputs": [],
   "source": [
    "# 将Cluster的值+1，方便后续分类\n",
    "for feature in ['Recency-Cluster','Frequency-Cluster','Monetary-Cluster']:\n",
    "    ks_df[feature] = ks_df[feature]+1"
   ]
  },
  {
   "cell_type": "code",
   "execution_count": 38,
   "id": "b60dc2bb-6e2f-4569-9988-fff170c26f6c",
   "metadata": {
    "tags": []
   },
   "outputs": [],
   "source": [
    "# 替换Monetary-Cluster中2和3的值，以匹配区间\n",
    "ks_df['Monetary-Cluster'] = ks_df['Monetary-Cluster'].replace({2: 3, 3: 2})\n",
    "ks_df['Recency-Cluster'] = ks_df['Recency-Cluster'].replace({1: 3, 3: 1})"
   ]
  },
  {
   "cell_type": "code",
   "execution_count": 39,
   "id": "b63fcead-0d21-4a46-b390-7bb1a40af7a4",
   "metadata": {
    "tags": []
   },
   "outputs": [],
   "source": [
    "# 合并['Recency-Cluster','Frequency-Cluster','Monetary-Cluster']三列的分类\n",
    "ks_df['RFM'] = ks_df[['Recency-Cluster', 'Frequency-Cluster', 'Monetary-Cluster']].apply(lambda row: ''.join(map(str, row)), axis=1)\n",
    "ks_df['RFM-Score'] = ks_df.apply(lambda row: row['Recency-Cluster'] + row['Frequency-Cluster'] + row['Monetary-Cluster'], axis=1)\n"
   ]
  },
  {
   "cell_type": "markdown",
   "id": "ff369ebd-218c-4d9f-8655-ac441d3a5fe3",
   "metadata": {
    "tags": []
   },
   "source": [
    "### RFM客户分类"
   ]
  },
  {
   "cell_type": "code",
   "execution_count": 40,
   "id": "9a1cbeda-9b9c-4f40-8f49-2171dad64599",
   "metadata": {
    "tags": []
   },
   "outputs": [],
   "source": [
    "# 定义RFM模型的分类规则\n",
    "code_pattern_list = ['333', '3*3', '*33', '**3', '33*', '3**', '*3*', '***']\n",
    "\n",
    "# type_list = ['重要价值客户', '重要发展客户', '重要保持客户', '重要挽留客户',  \n",
    "#              '一般价值客户', '一般发展客户', '一般保持客户', '一般挽留客户']\n",
    "\n",
    "# type_list = ['Key valuable customer','Key develop customer',\n",
    "#                 'Key retain customer','Key rescue customer',\n",
    "#                 'General valuable customer','General develop customer',\n",
    "#                 'General retain customer','General rescue customer']\n",
    "\n",
    "type_list = ['K-valuable','K-develop','K-retain','K-rescue',\n",
    "                'G-valuable','G-develop','G-retain','G-rescue']\n",
    "\n",
    "customer_type_map = {} \n",
    "for pattern, ctype in zip(code_pattern_list, type_list):\n",
    "    if pattern == '333':\n",
    "        customer_type_map['333'] = ctype\n",
    "    elif pattern == '3*3':\n",
    "        customer_type_map['313'] = ctype\n",
    "        customer_type_map['323'] = ctype\n",
    "    elif pattern == '*33':\n",
    "        customer_type_map['331'] = ctype \n",
    "        customer_type_map['332'] = ctype\n",
    "    elif pattern == '**3':\n",
    "        customer_type_map['311'] = ctype\n",
    "        customer_type_map['312'] = ctype\n",
    "    elif pattern == '33*':\n",
    "        customer_type_map['331'] = ctype\n",
    "        customer_type_map['332'] = ctype  \n",
    "    elif pattern == '3**':\n",
    "        customer_type_map['321'] = ctype\n",
    "        customer_type_map['322'] = ctype\n",
    "    elif pattern == '*3*':\n",
    "        customer_type_map['311'] = ctype \n",
    "        customer_type_map['312'] = ctype\n",
    "        customer_type_map['321'] = ctype\n",
    "        customer_type_map['322'] = ctype\n",
    "    else:\n",
    "        customer_type_map['111'] = ctype\n",
    "        customer_type_map['112'] = ctype\n",
    "        customer_type_map['121'] = ctype\n",
    "        customer_type_map['122'] = ctype\n",
    "        customer_type_map['211'] = ctype\n",
    "        customer_type_map['212'] = ctype\n",
    "        customer_type_map['221'] = ctype\n",
    "        customer_type_map['222'] = ctype\n",
    "        \n",
    "# print(customer_type_map) \n",
    "# 增加'客户分类'列\n",
    "ks_df['Segment'] = ks_df['RFM'].map(customer_type_map)"
   ]
  },
  {
   "cell_type": "code",
   "execution_count": 41,
   "id": "9d929fe3-7e8d-4174-8a55-0204946941b2",
   "metadata": {
    "tags": []
   },
   "outputs": [
    {
     "data": {
      "text/html": [
       "<div>\n",
       "<style scoped>\n",
       "    .dataframe tbody tr th:only-of-type {\n",
       "        vertical-align: middle;\n",
       "    }\n",
       "\n",
       "    .dataframe tbody tr th {\n",
       "        vertical-align: top;\n",
       "    }\n",
       "\n",
       "    .dataframe thead th {\n",
       "        text-align: right;\n",
       "    }\n",
       "</style>\n",
       "<table border=\"1\" class=\"dataframe\">\n",
       "  <thead>\n",
       "    <tr style=\"text-align: right;\">\n",
       "      <th></th>\n",
       "      <th>CustomerID</th>\n",
       "      <th>Recency</th>\n",
       "      <th>Frequency</th>\n",
       "      <th>Monetary</th>\n",
       "      <th>Recency-Cluster</th>\n",
       "      <th>Frequency-Cluster</th>\n",
       "      <th>Monetary-Cluster</th>\n",
       "      <th>RFM</th>\n",
       "      <th>RFM-Score</th>\n",
       "      <th>Segment</th>\n",
       "    </tr>\n",
       "  </thead>\n",
       "  <tbody>\n",
       "    <tr>\n",
       "      <th>1814</th>\n",
       "      <td>15370</td>\n",
       "      <td>61</td>\n",
       "      <td>7</td>\n",
       "      <td>2386.05</td>\n",
       "      <td>3</td>\n",
       "      <td>1</td>\n",
       "      <td>1</td>\n",
       "      <td>311</td>\n",
       "      <td>5</td>\n",
       "      <td>一般保持客户</td>\n",
       "    </tr>\n",
       "    <tr>\n",
       "      <th>109</th>\n",
       "      <td>12970</td>\n",
       "      <td>28</td>\n",
       "      <td>4</td>\n",
       "      <td>405.47</td>\n",
       "      <td>3</td>\n",
       "      <td>1</td>\n",
       "      <td>1</td>\n",
       "      <td>311</td>\n",
       "      <td>5</td>\n",
       "      <td>一般保持客户</td>\n",
       "    </tr>\n",
       "    <tr>\n",
       "      <th>956</th>\n",
       "      <td>14173</td>\n",
       "      <td>31</td>\n",
       "      <td>4</td>\n",
       "      <td>450.84</td>\n",
       "      <td>3</td>\n",
       "      <td>1</td>\n",
       "      <td>1</td>\n",
       "      <td>311</td>\n",
       "      <td>5</td>\n",
       "      <td>一般保持客户</td>\n",
       "    </tr>\n",
       "    <tr>\n",
       "      <th>2360</th>\n",
       "      <td>16121</td>\n",
       "      <td>78</td>\n",
       "      <td>2</td>\n",
       "      <td>854.66</td>\n",
       "      <td>3</td>\n",
       "      <td>1</td>\n",
       "      <td>1</td>\n",
       "      <td>311</td>\n",
       "      <td>5</td>\n",
       "      <td>一般保持客户</td>\n",
       "    </tr>\n",
       "    <tr>\n",
       "      <th>636</th>\n",
       "      <td>13716</td>\n",
       "      <td>290</td>\n",
       "      <td>1</td>\n",
       "      <td>138.28</td>\n",
       "      <td>2</td>\n",
       "      <td>1</td>\n",
       "      <td>1</td>\n",
       "      <td>211</td>\n",
       "      <td>4</td>\n",
       "      <td>一般挽留客户</td>\n",
       "    </tr>\n",
       "    <tr>\n",
       "      <th>2394</th>\n",
       "      <td>16164</td>\n",
       "      <td>38</td>\n",
       "      <td>3</td>\n",
       "      <td>822.48</td>\n",
       "      <td>3</td>\n",
       "      <td>1</td>\n",
       "      <td>1</td>\n",
       "      <td>311</td>\n",
       "      <td>5</td>\n",
       "      <td>一般保持客户</td>\n",
       "    </tr>\n",
       "    <tr>\n",
       "      <th>1206</th>\n",
       "      <td>14523</td>\n",
       "      <td>129</td>\n",
       "      <td>1</td>\n",
       "      <td>241.09</td>\n",
       "      <td>1</td>\n",
       "      <td>1</td>\n",
       "      <td>1</td>\n",
       "      <td>111</td>\n",
       "      <td>3</td>\n",
       "      <td>一般挽留客户</td>\n",
       "    </tr>\n",
       "    <tr>\n",
       "      <th>1072</th>\n",
       "      <td>14341</td>\n",
       "      <td>66</td>\n",
       "      <td>8</td>\n",
       "      <td>2166.98</td>\n",
       "      <td>3</td>\n",
       "      <td>1</td>\n",
       "      <td>1</td>\n",
       "      <td>311</td>\n",
       "      <td>5</td>\n",
       "      <td>一般保持客户</td>\n",
       "    </tr>\n",
       "    <tr>\n",
       "      <th>1847</th>\n",
       "      <td>15417</td>\n",
       "      <td>106</td>\n",
       "      <td>1</td>\n",
       "      <td>508.80</td>\n",
       "      <td>3</td>\n",
       "      <td>1</td>\n",
       "      <td>1</td>\n",
       "      <td>311</td>\n",
       "      <td>5</td>\n",
       "      <td>一般保持客户</td>\n",
       "    </tr>\n",
       "    <tr>\n",
       "      <th>2469</th>\n",
       "      <td>16265</td>\n",
       "      <td>30</td>\n",
       "      <td>9</td>\n",
       "      <td>5447.00</td>\n",
       "      <td>3</td>\n",
       "      <td>1</td>\n",
       "      <td>1</td>\n",
       "      <td>311</td>\n",
       "      <td>5</td>\n",
       "      <td>一般保持客户</td>\n",
       "    </tr>\n",
       "  </tbody>\n",
       "</table>\n",
       "</div>"
      ],
      "text/plain": [
       "     CustomerID  Recency  Frequency  Monetary  Recency-Cluster   \n",
       "1814      15370       61          7   2386.05                3  \\\n",
       "109       12970       28          4    405.47                3   \n",
       "956       14173       31          4    450.84                3   \n",
       "2360      16121       78          2    854.66                3   \n",
       "636       13716      290          1    138.28                2   \n",
       "2394      16164       38          3    822.48                3   \n",
       "1206      14523      129          1    241.09                1   \n",
       "1072      14341       66          8   2166.98                3   \n",
       "1847      15417      106          1    508.80                3   \n",
       "2469      16265       30          9   5447.00                3   \n",
       "\n",
       "      Frequency-Cluster  Monetary-Cluster  RFM  RFM-Score Segment  \n",
       "1814                  1                 1  311          5  一般保持客户  \n",
       "109                   1                 1  311          5  一般保持客户  \n",
       "956                   1                 1  311          5  一般保持客户  \n",
       "2360                  1                 1  311          5  一般保持客户  \n",
       "636                   1                 1  211          4  一般挽留客户  \n",
       "2394                  1                 1  311          5  一般保持客户  \n",
       "1206                  1                 1  111          3  一般挽留客户  \n",
       "1072                  1                 1  311          5  一般保持客户  \n",
       "1847                  1                 1  311          5  一般保持客户  \n",
       "2469                  1                 1  311          5  一般保持客户  "
      ]
     },
     "execution_count": 41,
     "metadata": {},
     "output_type": "execute_result"
    }
   ],
   "source": [
    "ks_df.sample(10)"
   ]
  },
  {
   "cell_type": "markdown",
   "id": "01fa258f-6d9e-4d6d-a9ee-c04bab1350e3",
   "metadata": {
    "tags": []
   },
   "source": [
    "### 分类可视化"
   ]
  },
  {
   "cell_type": "code",
   "execution_count": 42,
   "id": "0fed309e-4134-4013-9155-fc27170e322d",
   "metadata": {
    "tags": []
   },
   "outputs": [
    {
     "data": {
      "text/html": [
       "<div>\n",
       "<style scoped>\n",
       "    .dataframe tbody tr th:only-of-type {\n",
       "        vertical-align: middle;\n",
       "    }\n",
       "\n",
       "    .dataframe tbody tr th {\n",
       "        vertical-align: top;\n",
       "    }\n",
       "\n",
       "    .dataframe thead th {\n",
       "        text-align: right;\n",
       "    }\n",
       "</style>\n",
       "<table border=\"1\" class=\"dataframe\">\n",
       "  <thead>\n",
       "    <tr style=\"text-align: right;\">\n",
       "      <th></th>\n",
       "      <th>Segment</th>\n",
       "      <th>count</th>\n",
       "      <th>%</th>\n",
       "    </tr>\n",
       "  </thead>\n",
       "  <tbody>\n",
       "    <tr>\n",
       "      <th>0</th>\n",
       "      <td>一般保持客户</td>\n",
       "      <td>2630</td>\n",
       "      <td>67.09</td>\n",
       "    </tr>\n",
       "    <tr>\n",
       "      <th>1</th>\n",
       "      <td>一般挽留客户</td>\n",
       "      <td>1281</td>\n",
       "      <td>32.68</td>\n",
       "    </tr>\n",
       "    <tr>\n",
       "      <th>2</th>\n",
       "      <td>一般价值客户</td>\n",
       "      <td>6</td>\n",
       "      <td>0.15</td>\n",
       "    </tr>\n",
       "    <tr>\n",
       "      <th>3</th>\n",
       "      <td>重要发展客户</td>\n",
       "      <td>3</td>\n",
       "      <td>0.08</td>\n",
       "    </tr>\n",
       "  </tbody>\n",
       "</table>\n",
       "</div>"
      ],
      "text/plain": [
       "  Segment  count      %\n",
       "0  一般保持客户   2630  67.09\n",
       "1  一般挽留客户   1281  32.68\n",
       "2  一般价值客户      6   0.15\n",
       "3  重要发展客户      3   0.08"
      ]
     },
     "execution_count": 42,
     "metadata": {},
     "output_type": "execute_result"
    }
   ],
   "source": [
    "segment_df = ks_df['Segment'].value_counts().to_frame().reset_index()\n",
    "segment_df['%'] = round(segment_df['count']/ len(ks_df)*100,2)\n",
    "segment_df"
   ]
  },
  {
   "cell_type": "code",
   "execution_count": 43,
   "id": "9857d3e0-b2e3-4b8c-8d10-99ad206edb18",
   "metadata": {
    "tags": []
   },
   "outputs": [
    {
     "data": {
      "image/png": "[encoded data removed]",
      "text/plain": [
       "<Figure size 640x480 with 1 Axes>"
      ]
     },
     "metadata": {},
     "output_type": "display_data"
    }
   ],
   "source": [
    "# 绘制Customers Segments的饼图\n",
    "explode = (0.1, 0.1, 0.1, 2.0)\n",
    "plt.pie(segment_df['count'], explode=explode, labels=segment_df['Segment'], autopct='%1.1f%%')\n",
    "plt.title('Number of Customers by Segments')\n",
    "\n",
    "plt.show()"
   ]
  },
  {
   "cell_type": "code",
   "execution_count": 120,
   "id": "df1f522b-7f7b-4ef1-84c6-ff3a1102a151",
   "metadata": {
    "tags": []
   },
   "outputs": [
    {
     "data": {
      "image/png": "[encoded data removed]",
      "text/plain": [
       "<Figure size 640x480 with 1 Axes>"
      ]
     },
     "metadata": {},
     "output_type": "display_data"
    }
   ],
   "source": [
    "sns.set(style=\"darkgrid\")  # 设置样式\n",
    "# 假设 segment_df 是一个包含分段数据的DataFrame\n",
    "sns.countplot(x='Segment', data=ks_df)\n",
    "plt.title('Segment Distribution')  # 设置标题\n",
    "plt.show()"
   ]
  },
  {
   "cell_type": "markdown",
   "id": "f84ae7b2-d694-4ae8-a6b4-979a96b59bfc",
   "metadata": {
    "tags": []
   },
   "source": [
    "## RFM Segment"
   ]
  },
  {
   "cell_type": "markdown",
   "id": "36eec20e-454b-41e4-8f4e-49690cb45735",
   "metadata": {},
   "source": [
    "### 确认分层标准"
   ]
  },
  {
   "cell_type": "code",
   "execution_count": 121,
   "id": "1e68da9b-3c41-4b8c-b843-d19c1b0b09b9",
   "metadata": {
    "tags": []
   },
   "outputs": [],
   "source": [
    "rfm_df = seg_df.copy()"
   ]
  },
  {
   "cell_type": "code",
   "execution_count": 122,
   "id": "2e7a1e91-3c5e-49a0-a5c0-443edf96b15d",
   "metadata": {
    "tags": []
   },
   "outputs": [
    {
     "data": {
      "text/html": [
       "<div>\n",
       "<style scoped>\n",
       "    .dataframe tbody tr th:only-of-type {\n",
       "        vertical-align: middle;\n",
       "    }\n",
       "\n",
       "    .dataframe tbody tr th {\n",
       "        vertical-align: top;\n",
       "    }\n",
       "\n",
       "    .dataframe thead th {\n",
       "        text-align: right;\n",
       "    }\n",
       "</style>\n",
       "<table border=\"1\" class=\"dataframe\">\n",
       "  <thead>\n",
       "    <tr style=\"text-align: right;\">\n",
       "      <th></th>\n",
       "      <th>Recency</th>\n",
       "      <th>Frequency</th>\n",
       "      <th>Monetary</th>\n",
       "    </tr>\n",
       "  </thead>\n",
       "  <tbody>\n",
       "    <tr>\n",
       "      <th>count</th>\n",
       "      <td>3920.000000</td>\n",
       "      <td>3920.000000</td>\n",
       "      <td>3920.000000</td>\n",
       "    </tr>\n",
       "    <tr>\n",
       "      <th>mean</th>\n",
       "      <td>112.742092</td>\n",
       "      <td>4.246429</td>\n",
       "      <td>1858.424653</td>\n",
       "    </tr>\n",
       "    <tr>\n",
       "      <th>std</th>\n",
       "      <td>99.533485</td>\n",
       "      <td>7.199202</td>\n",
       "      <td>7478.631256</td>\n",
       "    </tr>\n",
       "    <tr>\n",
       "      <th>min</th>\n",
       "      <td>21.000000</td>\n",
       "      <td>1.000000</td>\n",
       "      <td>3.750000</td>\n",
       "    </tr>\n",
       "    <tr>\n",
       "      <th>25%</th>\n",
       "      <td>38.000000</td>\n",
       "      <td>1.000000</td>\n",
       "      <td>298.185000</td>\n",
       "    </tr>\n",
       "    <tr>\n",
       "      <th>50%</th>\n",
       "      <td>71.000000</td>\n",
       "      <td>2.000000</td>\n",
       "      <td>644.975000</td>\n",
       "    </tr>\n",
       "    <tr>\n",
       "      <th>75%</th>\n",
       "      <td>163.000000</td>\n",
       "      <td>5.000000</td>\n",
       "      <td>1571.285000</td>\n",
       "    </tr>\n",
       "    <tr>\n",
       "      <th>max</th>\n",
       "      <td>394.000000</td>\n",
       "      <td>209.000000</td>\n",
       "      <td>259657.300000</td>\n",
       "    </tr>\n",
       "  </tbody>\n",
       "</table>\n",
       "</div>"
      ],
      "text/plain": [
       "           Recency    Frequency       Monetary\n",
       "count  3920.000000  3920.000000    3920.000000\n",
       "mean    112.742092     4.246429    1858.424653\n",
       "std      99.533485     7.199202    7478.631256\n",
       "min      21.000000     1.000000       3.750000\n",
       "25%      38.000000     1.000000     298.185000\n",
       "50%      71.000000     2.000000     644.975000\n",
       "75%     163.000000     5.000000    1571.285000\n",
       "max     394.000000   209.000000  259657.300000"
      ]
     },
     "execution_count": 122,
     "metadata": {},
     "output_type": "execute_result"
    }
   ],
   "source": [
    "rfm_df[['Recency','Frequency','Monetary']].describe()"
   ]
  },
  {
   "cell_type": "markdown",
   "id": "749aa456-7f70-41dc-a2b4-d37981a942d0",
   "metadata": {},
   "source": [
    "本项目以feature中位数为Segmentation标准，实际项目中以业务需求和实际数据分析为准"
   ]
  },
  {
   "cell_type": "code",
   "execution_count": 123,
   "id": "9da9efa8-c290-4180-975c-8c9304d23c42",
   "metadata": {},
   "outputs": [],
   "source": [
    "# 获取特征中位数\n",
    "r_median = rfm_df['Recency'].median()\n",
    "f_median = rfm_df['Frequency'].median()\n",
    "m_median = rfm_df['Monetary'].median()"
   ]
  },
  {
   "cell_type": "code",
   "execution_count": 124,
   "id": "b6695af2-328a-4e72-8878-b79cfc24ae02",
   "metadata": {
    "tags": []
   },
   "outputs": [],
   "source": [
    "rfm_df['r_C'] = rfm_df['Recency'].apply(lambda x: 1 if x > r_median else 0)\n",
    "rfm_df['f_C'] = rfm_df['Frequency'].apply(lambda x: 1 if x > f_median else 0) \n",
    "rfm_df['m_C'] = rfm_df['Monetary'].apply(lambda x: 1 if x > m_median else 0)"
   ]
  },
  {
   "cell_type": "code",
   "execution_count": 125,
   "id": "7b22ff87-d31c-40c9-8ea2-41b540b1aaa7",
   "metadata": {
    "tags": []
   },
   "outputs": [
    {
     "data": {
      "text/html": [
       "<div>\n",
       "<style scoped>\n",
       "    .dataframe tbody tr th:only-of-type {\n",
       "        vertical-align: middle;\n",
       "    }\n",
       "\n",
       "    .dataframe tbody tr th {\n",
       "        vertical-align: top;\n",
       "    }\n",
       "\n",
       "    .dataframe thead th {\n",
       "        text-align: right;\n",
       "    }\n",
       "</style>\n",
       "<table border=\"1\" class=\"dataframe\">\n",
       "  <thead>\n",
       "    <tr style=\"text-align: right;\">\n",
       "      <th></th>\n",
       "      <th>CustomerID</th>\n",
       "      <th>Recency</th>\n",
       "      <th>Frequency</th>\n",
       "      <th>Monetary</th>\n",
       "      <th>r_C</th>\n",
       "      <th>f_C</th>\n",
       "      <th>m_C</th>\n",
       "      <th>rfm_C</th>\n",
       "    </tr>\n",
       "  </thead>\n",
       "  <tbody>\n",
       "    <tr>\n",
       "      <th>0</th>\n",
       "      <td>12346</td>\n",
       "      <td>346</td>\n",
       "      <td>1</td>\n",
       "      <td>77183.60</td>\n",
       "      <td>1</td>\n",
       "      <td>0</td>\n",
       "      <td>1</td>\n",
       "      <td>101</td>\n",
       "    </tr>\n",
       "    <tr>\n",
       "      <th>1</th>\n",
       "      <td>12747</td>\n",
       "      <td>23</td>\n",
       "      <td>11</td>\n",
       "      <td>4196.01</td>\n",
       "      <td>0</td>\n",
       "      <td>1</td>\n",
       "      <td>1</td>\n",
       "      <td>011</td>\n",
       "    </tr>\n",
       "    <tr>\n",
       "      <th>2</th>\n",
       "      <td>12748</td>\n",
       "      <td>21</td>\n",
       "      <td>209</td>\n",
       "      <td>33053.19</td>\n",
       "      <td>0</td>\n",
       "      <td>1</td>\n",
       "      <td>1</td>\n",
       "      <td>011</td>\n",
       "    </tr>\n",
       "    <tr>\n",
       "      <th>3</th>\n",
       "      <td>12749</td>\n",
       "      <td>24</td>\n",
       "      <td>5</td>\n",
       "      <td>4090.88</td>\n",
       "      <td>0</td>\n",
       "      <td>1</td>\n",
       "      <td>1</td>\n",
       "      <td>011</td>\n",
       "    </tr>\n",
       "    <tr>\n",
       "      <th>4</th>\n",
       "      <td>12820</td>\n",
       "      <td>24</td>\n",
       "      <td>4</td>\n",
       "      <td>942.34</td>\n",
       "      <td>0</td>\n",
       "      <td>1</td>\n",
       "      <td>1</td>\n",
       "      <td>011</td>\n",
       "    </tr>\n",
       "    <tr>\n",
       "      <th>...</th>\n",
       "      <td>...</td>\n",
       "      <td>...</td>\n",
       "      <td>...</td>\n",
       "      <td>...</td>\n",
       "      <td>...</td>\n",
       "      <td>...</td>\n",
       "      <td>...</td>\n",
       "      <td>...</td>\n",
       "    </tr>\n",
       "    <tr>\n",
       "      <th>3915</th>\n",
       "      <td>18280</td>\n",
       "      <td>298</td>\n",
       "      <td>1</td>\n",
       "      <td>180.60</td>\n",
       "      <td>1</td>\n",
       "      <td>0</td>\n",
       "      <td>0</td>\n",
       "      <td>100</td>\n",
       "    </tr>\n",
       "    <tr>\n",
       "      <th>3916</th>\n",
       "      <td>18281</td>\n",
       "      <td>201</td>\n",
       "      <td>1</td>\n",
       "      <td>80.82</td>\n",
       "      <td>1</td>\n",
       "      <td>0</td>\n",
       "      <td>0</td>\n",
       "      <td>100</td>\n",
       "    </tr>\n",
       "    <tr>\n",
       "      <th>3917</th>\n",
       "      <td>18282</td>\n",
       "      <td>28</td>\n",
       "      <td>2</td>\n",
       "      <td>178.05</td>\n",
       "      <td>0</td>\n",
       "      <td>0</td>\n",
       "      <td>0</td>\n",
       "      <td>000</td>\n",
       "    </tr>\n",
       "    <tr>\n",
       "      <th>3918</th>\n",
       "      <td>18283</td>\n",
       "      <td>24</td>\n",
       "      <td>16</td>\n",
       "      <td>2045.53</td>\n",
       "      <td>0</td>\n",
       "      <td>1</td>\n",
       "      <td>1</td>\n",
       "      <td>011</td>\n",
       "    </tr>\n",
       "    <tr>\n",
       "      <th>3919</th>\n",
       "      <td>18287</td>\n",
       "      <td>63</td>\n",
       "      <td>3</td>\n",
       "      <td>1837.28</td>\n",
       "      <td>0</td>\n",
       "      <td>1</td>\n",
       "      <td>1</td>\n",
       "      <td>011</td>\n",
       "    </tr>\n",
       "  </tbody>\n",
       "</table>\n",
       "<p>3920 rows × 8 columns</p>\n",
       "</div>"
      ],
      "text/plain": [
       "     CustomerID  Recency  Frequency  Monetary  r_C  f_C  m_C rfm_C\n",
       "0         12346      346          1  77183.60    1    0    1   101\n",
       "1         12747       23         11   4196.01    0    1    1   011\n",
       "2         12748       21        209  33053.19    0    1    1   011\n",
       "3         12749       24          5   4090.88    0    1    1   011\n",
       "4         12820       24          4    942.34    0    1    1   011\n",
       "...         ...      ...        ...       ...  ...  ...  ...   ...\n",
       "3915      18280      298          1    180.60    1    0    0   100\n",
       "3916      18281      201          1     80.82    1    0    0   100\n",
       "3917      18282       28          2    178.05    0    0    0   000\n",
       "3918      18283       24         16   2045.53    0    1    1   011\n",
       "3919      18287       63          3   1837.28    0    1    1   011\n",
       "\n",
       "[3920 rows x 8 columns]"
      ]
     },
     "execution_count": 125,
     "metadata": {},
     "output_type": "execute_result"
    }
   ],
   "source": [
    "rfm_df['rfm_C'] = rfm_df[['r_C', 'f_C', 'm_C']].apply(lambda row: ''.join(map(str, row)), axis=1)\n",
    "rfm_df"
   ]
  },
  {
   "cell_type": "markdown",
   "id": "09f98ad3-d853-49ed-9583-cc7024fcbfec",
   "metadata": {},
   "source": [
    "### 分类情况"
   ]
  },
  {
   "cell_type": "code",
   "execution_count": 127,
   "id": "71929271-bfb0-41b2-bf77-d9f5481f87c1",
   "metadata": {
    "tags": []
   },
   "outputs": [
    {
     "data": {
      "text/html": [
       "<div>\n",
       "<style scoped>\n",
       "    .dataframe tbody tr th:only-of-type {\n",
       "        vertical-align: middle;\n",
       "    }\n",
       "\n",
       "    .dataframe tbody tr th {\n",
       "        vertical-align: top;\n",
       "    }\n",
       "\n",
       "    .dataframe thead th {\n",
       "        text-align: right;\n",
       "    }\n",
       "</style>\n",
       "<table border=\"1\" class=\"dataframe\">\n",
       "  <thead>\n",
       "    <tr style=\"text-align: right;\">\n",
       "      <th></th>\n",
       "      <th>rfm_C</th>\n",
       "      <th>count</th>\n",
       "      <th>%</th>\n",
       "    </tr>\n",
       "  </thead>\n",
       "  <tbody>\n",
       "    <tr>\n",
       "      <th>0</th>\n",
       "      <td>100</td>\n",
       "      <td>1195</td>\n",
       "      <td>30.48</td>\n",
       "    </tr>\n",
       "    <tr>\n",
       "      <th>1</th>\n",
       "      <td>011</td>\n",
       "      <td>1190</td>\n",
       "      <td>30.36</td>\n",
       "    </tr>\n",
       "    <tr>\n",
       "      <th>2</th>\n",
       "      <td>000</td>\n",
       "      <td>523</td>\n",
       "      <td>13.34</td>\n",
       "    </tr>\n",
       "    <tr>\n",
       "      <th>3</th>\n",
       "      <td>111</td>\n",
       "      <td>392</td>\n",
       "      <td>10.00</td>\n",
       "    </tr>\n",
       "    <tr>\n",
       "      <th>4</th>\n",
       "      <td>101</td>\n",
       "      <td>238</td>\n",
       "      <td>6.07</td>\n",
       "    </tr>\n",
       "    <tr>\n",
       "      <th>5</th>\n",
       "      <td>001</td>\n",
       "      <td>140</td>\n",
       "      <td>3.57</td>\n",
       "    </tr>\n",
       "    <tr>\n",
       "      <th>6</th>\n",
       "      <td>110</td>\n",
       "      <td>123</td>\n",
       "      <td>3.14</td>\n",
       "    </tr>\n",
       "    <tr>\n",
       "      <th>7</th>\n",
       "      <td>010</td>\n",
       "      <td>119</td>\n",
       "      <td>3.04</td>\n",
       "    </tr>\n",
       "  </tbody>\n",
       "</table>\n",
       "</div>"
      ],
      "text/plain": [
       "  rfm_C  count      %\n",
       "0   100   1195  30.48\n",
       "1   011   1190  30.36\n",
       "2   000    523  13.34\n",
       "3   111    392  10.00\n",
       "4   101    238   6.07\n",
       "5   001    140   3.57\n",
       "6   110    123   3.14\n",
       "7   010    119   3.04"
      ]
     },
     "execution_count": 127,
     "metadata": {},
     "output_type": "execute_result"
    }
   ],
   "source": [
    "rfm_segment_df = rfm_df['rfm_C'].value_counts().to_frame().reset_index()\n",
    "rfm_segment_df['%'] = round(rfm_segment_df['count']/ len(rfm_df)*100,2)\n",
    "rfm_segment_df"
   ]
  },
  {
   "cell_type": "markdown",
   "id": "4f98f76e-b8ed-4763-a930-db38e002811e",
   "metadata": {
    "tags": []
   },
   "source": [
    "### 解释RFM分类"
   ]
  },
  {
   "cell_type": "code",
   "execution_count": 134,
   "id": "3f621a01-ac60-4363-bc63-24dbd40987cd",
   "metadata": {
    "tags": []
   },
   "outputs": [],
   "source": [
    "# rfm_map = {\n",
    "#     '111': '重要价值客户',\n",
    "#     '101': '重要发展客户', \n",
    "#     '011': '重要保持客户',\n",
    "#     '001': '重要挽留客户',\n",
    "#     '110': '一般价值客户',\n",
    "#     '100': '一般发展客户',\n",
    "#     '010': '一般保持客户',\n",
    "#     '000': '一般挽留客户'\n",
    "# }\n",
    "\n",
    "rfm_map = {\n",
    "    '111': 'K-valuable', \n",
    "    '101': 'K-develop',\n",
    "    '011': 'K-retain',\n",
    "    '001': 'K-rescue',\n",
    "    '110': 'G-valuable', \n",
    "    '100': 'G-develop',\n",
    "    '010': 'G-retain',\n",
    "    '000': 'G-rescue'\n",
    "}"
   ]
  },
  {
   "cell_type": "code",
   "execution_count": 135,
   "id": "2d67f5a6-f85d-428d-acaf-ae8507c81985",
   "metadata": {
    "tags": []
   },
   "outputs": [],
   "source": [
    "# 增加'客户分类'列\n",
    "rfm_df['Segment'] = rfm_df['rfm_C'].map(rfm_map)"
   ]
  },
  {
   "cell_type": "code",
   "execution_count": 136,
   "id": "c47def65-cb98-4a9c-9964-0bcead025988",
   "metadata": {},
   "outputs": [
    {
     "data": {
      "text/html": [
       "<div>\n",
       "<style scoped>\n",
       "    .dataframe tbody tr th:only-of-type {\n",
       "        vertical-align: middle;\n",
       "    }\n",
       "\n",
       "    .dataframe tbody tr th {\n",
       "        vertical-align: top;\n",
       "    }\n",
       "\n",
       "    .dataframe thead th {\n",
       "        text-align: right;\n",
       "    }\n",
       "</style>\n",
       "<table border=\"1\" class=\"dataframe\">\n",
       "  <thead>\n",
       "    <tr style=\"text-align: right;\">\n",
       "      <th></th>\n",
       "      <th>CustomerID</th>\n",
       "      <th>Recency</th>\n",
       "      <th>Frequency</th>\n",
       "      <th>Monetary</th>\n",
       "      <th>r_C</th>\n",
       "      <th>f_C</th>\n",
       "      <th>m_C</th>\n",
       "      <th>rfm_C</th>\n",
       "      <th>Segment</th>\n",
       "    </tr>\n",
       "  </thead>\n",
       "  <tbody>\n",
       "    <tr>\n",
       "      <th>0</th>\n",
       "      <td>12346</td>\n",
       "      <td>346</td>\n",
       "      <td>1</td>\n",
       "      <td>77183.60</td>\n",
       "      <td>1</td>\n",
       "      <td>0</td>\n",
       "      <td>1</td>\n",
       "      <td>101</td>\n",
       "      <td>K-develop</td>\n",
       "    </tr>\n",
       "    <tr>\n",
       "      <th>1</th>\n",
       "      <td>12747</td>\n",
       "      <td>23</td>\n",
       "      <td>11</td>\n",
       "      <td>4196.01</td>\n",
       "      <td>0</td>\n",
       "      <td>1</td>\n",
       "      <td>1</td>\n",
       "      <td>011</td>\n",
       "      <td>K-retain</td>\n",
       "    </tr>\n",
       "    <tr>\n",
       "      <th>2</th>\n",
       "      <td>12748</td>\n",
       "      <td>21</td>\n",
       "      <td>209</td>\n",
       "      <td>33053.19</td>\n",
       "      <td>0</td>\n",
       "      <td>1</td>\n",
       "      <td>1</td>\n",
       "      <td>011</td>\n",
       "      <td>K-retain</td>\n",
       "    </tr>\n",
       "    <tr>\n",
       "      <th>3</th>\n",
       "      <td>12749</td>\n",
       "      <td>24</td>\n",
       "      <td>5</td>\n",
       "      <td>4090.88</td>\n",
       "      <td>0</td>\n",
       "      <td>1</td>\n",
       "      <td>1</td>\n",
       "      <td>011</td>\n",
       "      <td>K-retain</td>\n",
       "    </tr>\n",
       "    <tr>\n",
       "      <th>4</th>\n",
       "      <td>12820</td>\n",
       "      <td>24</td>\n",
       "      <td>4</td>\n",
       "      <td>942.34</td>\n",
       "      <td>0</td>\n",
       "      <td>1</td>\n",
       "      <td>1</td>\n",
       "      <td>011</td>\n",
       "      <td>K-retain</td>\n",
       "    </tr>\n",
       "    <tr>\n",
       "      <th>...</th>\n",
       "      <td>...</td>\n",
       "      <td>...</td>\n",
       "      <td>...</td>\n",
       "      <td>...</td>\n",
       "      <td>...</td>\n",
       "      <td>...</td>\n",
       "      <td>...</td>\n",
       "      <td>...</td>\n",
       "      <td>...</td>\n",
       "    </tr>\n",
       "    <tr>\n",
       "      <th>3915</th>\n",
       "      <td>18280</td>\n",
       "      <td>298</td>\n",
       "      <td>1</td>\n",
       "      <td>180.60</td>\n",
       "      <td>1</td>\n",
       "      <td>0</td>\n",
       "      <td>0</td>\n",
       "      <td>100</td>\n",
       "      <td>G-develop</td>\n",
       "    </tr>\n",
       "    <tr>\n",
       "      <th>3916</th>\n",
       "      <td>18281</td>\n",
       "      <td>201</td>\n",
       "      <td>1</td>\n",
       "      <td>80.82</td>\n",
       "      <td>1</td>\n",
       "      <td>0</td>\n",
       "      <td>0</td>\n",
       "      <td>100</td>\n",
       "      <td>G-develop</td>\n",
       "    </tr>\n",
       "    <tr>\n",
       "      <th>3917</th>\n",
       "      <td>18282</td>\n",
       "      <td>28</td>\n",
       "      <td>2</td>\n",
       "      <td>178.05</td>\n",
       "      <td>0</td>\n",
       "      <td>0</td>\n",
       "      <td>0</td>\n",
       "      <td>000</td>\n",
       "      <td>G-rescue</td>\n",
       "    </tr>\n",
       "    <tr>\n",
       "      <th>3918</th>\n",
       "      <td>18283</td>\n",
       "      <td>24</td>\n",
       "      <td>16</td>\n",
       "      <td>2045.53</td>\n",
       "      <td>0</td>\n",
       "      <td>1</td>\n",
       "      <td>1</td>\n",
       "      <td>011</td>\n",
       "      <td>K-retain</td>\n",
       "    </tr>\n",
       "    <tr>\n",
       "      <th>3919</th>\n",
       "      <td>18287</td>\n",
       "      <td>63</td>\n",
       "      <td>3</td>\n",
       "      <td>1837.28</td>\n",
       "      <td>0</td>\n",
       "      <td>1</td>\n",
       "      <td>1</td>\n",
       "      <td>011</td>\n",
       "      <td>K-retain</td>\n",
       "    </tr>\n",
       "  </tbody>\n",
       "</table>\n",
       "<p>3920 rows × 9 columns</p>\n",
       "</div>"
      ],
      "text/plain": [
       "     CustomerID  Recency  Frequency  Monetary  r_C  f_C  m_C rfm_C    Segment\n",
       "0         12346      346          1  77183.60    1    0    1   101  K-develop\n",
       "1         12747       23         11   4196.01    0    1    1   011   K-retain\n",
       "2         12748       21        209  33053.19    0    1    1   011   K-retain\n",
       "3         12749       24          5   4090.88    0    1    1   011   K-retain\n",
       "4         12820       24          4    942.34    0    1    1   011   K-retain\n",
       "...         ...      ...        ...       ...  ...  ...  ...   ...        ...\n",
       "3915      18280      298          1    180.60    1    0    0   100  G-develop\n",
       "3916      18281      201          1     80.82    1    0    0   100  G-develop\n",
       "3917      18282       28          2    178.05    0    0    0   000   G-rescue\n",
       "3918      18283       24         16   2045.53    0    1    1   011   K-retain\n",
       "3919      18287       63          3   1837.28    0    1    1   011   K-retain\n",
       "\n",
       "[3920 rows x 9 columns]"
      ]
     },
     "execution_count": 136,
     "metadata": {},
     "output_type": "execute_result"
    }
   ],
   "source": [
    "rfm_df"
   ]
  },
  {
   "cell_type": "markdown",
   "id": "c3d391e1-63b1-4e7d-a181-ee90e7053eb1",
   "metadata": {},
   "source": [
    "### 分类可视化"
   ]
  },
  {
   "cell_type": "code",
   "execution_count": 137,
   "id": "6b621933-c484-493c-98ea-6c2d8941cc30",
   "metadata": {
    "tags": []
   },
   "outputs": [
    {
     "data": {
      "text/html": [
       "<div>\n",
       "<style scoped>\n",
       "    .dataframe tbody tr th:only-of-type {\n",
       "        vertical-align: middle;\n",
       "    }\n",
       "\n",
       "    .dataframe tbody tr th {\n",
       "        vertical-align: top;\n",
       "    }\n",
       "\n",
       "    .dataframe thead th {\n",
       "        text-align: right;\n",
       "    }\n",
       "</style>\n",
       "<table border=\"1\" class=\"dataframe\">\n",
       "  <thead>\n",
       "    <tr style=\"text-align: right;\">\n",
       "      <th></th>\n",
       "      <th>Segment</th>\n",
       "      <th>count</th>\n",
       "      <th>%</th>\n",
       "    </tr>\n",
       "  </thead>\n",
       "  <tbody>\n",
       "    <tr>\n",
       "      <th>0</th>\n",
       "      <td>G-develop</td>\n",
       "      <td>1195</td>\n",
       "      <td>30.48</td>\n",
       "    </tr>\n",
       "    <tr>\n",
       "      <th>1</th>\n",
       "      <td>K-retain</td>\n",
       "      <td>1190</td>\n",
       "      <td>30.36</td>\n",
       "    </tr>\n",
       "    <tr>\n",
       "      <th>2</th>\n",
       "      <td>G-rescue</td>\n",
       "      <td>523</td>\n",
       "      <td>13.34</td>\n",
       "    </tr>\n",
       "    <tr>\n",
       "      <th>3</th>\n",
       "      <td>K-valuable</td>\n",
       "      <td>392</td>\n",
       "      <td>10.00</td>\n",
       "    </tr>\n",
       "    <tr>\n",
       "      <th>4</th>\n",
       "      <td>K-develop</td>\n",
       "      <td>238</td>\n",
       "      <td>6.07</td>\n",
       "    </tr>\n",
       "    <tr>\n",
       "      <th>5</th>\n",
       "      <td>K-rescue</td>\n",
       "      <td>140</td>\n",
       "      <td>3.57</td>\n",
       "    </tr>\n",
       "    <tr>\n",
       "      <th>6</th>\n",
       "      <td>G-valuable</td>\n",
       "      <td>123</td>\n",
       "      <td>3.14</td>\n",
       "    </tr>\n",
       "    <tr>\n",
       "      <th>7</th>\n",
       "      <td>G-retain</td>\n",
       "      <td>119</td>\n",
       "      <td>3.04</td>\n",
       "    </tr>\n",
       "  </tbody>\n",
       "</table>\n",
       "</div>"
      ],
      "text/plain": [
       "      Segment  count      %\n",
       "0   G-develop   1195  30.48\n",
       "1    K-retain   1190  30.36\n",
       "2    G-rescue    523  13.34\n",
       "3  K-valuable    392  10.00\n",
       "4   K-develop    238   6.07\n",
       "5    K-rescue    140   3.57\n",
       "6  G-valuable    123   3.14\n",
       "7    G-retain    119   3.04"
      ]
     },
     "execution_count": 137,
     "metadata": {},
     "output_type": "execute_result"
    }
   ],
   "source": [
    "rfm_s_df = rfm_df['Segment'].value_counts().to_frame().reset_index()\n",
    "rfm_s_df['%'] = round(rfm_s_df['count']/ len(ks_df)*100,2)\n",
    "rfm_s_df"
   ]
  },
  {
   "cell_type": "code",
   "execution_count": 138,
   "id": "44a84602-6007-4001-8c37-43760bfefff3",
   "metadata": {
    "tags": []
   },
   "outputs": [
    {
     "data": {
      "image/png": "[encoded data removed]",
      "text/plain": [
       "<Figure size 640x480 with 1 Axes>"
      ]
     },
     "metadata": {},
     "output_type": "display_data"
    }
   ],
   "source": [
    "# 绘制Customers Segments的饼图\n",
    "# len(rfm_s_df)\n",
    "explode = (0.1, 0.1, 0.1, 0.1, 0.1, 0.1, 0.1, 0.1) \n",
    "plt.pie(rfm_s_df['count'], explode=explode, labels=rfm_s_df['Segment'], autopct='%1.1f%%')\n",
    "plt.title('Number of Customers by Segments')\n",
    "\n",
    "plt.show()"
   ]
  },
  {
   "cell_type": "markdown",
   "id": "eba7de61-aff7-4f79-a677-ac631f09d381",
   "metadata": {
    "tags": []
   },
   "source": [
    "## 总结"
   ]
  },
  {
   "cell_type": "markdown",
   "id": "ecf99b34-6a8a-40a9-805e-5605afc4d213",
   "metadata": {},
   "source": [
    "科学的客户分类,可以更有效地进行针对性的营销,为运营提供有效的帮助,给决策层提供直观的数据支撑。\n",
    "\n",
    "1. 重要价值客户:这类客户的价值高,是公司的重要客户,应该投入较多资源进行维系和开发。  \n",
    "2. 重要发展客户:这类客户具有较高的潜在价值,是公司发展的重要客户,应加大开发力度,扩大业务规模。\n",
    "3. 重要保持客户:这类客户当前的价值较高,是公司要重点保持的客户,要投入适度资源进行维护,确保客户关系稳定。\n",
    "4. 重要挽留客户:这类客户的价值高,但是存在一定流失风险,是公司要重点挽留的客户,要投入较多资源进行维系,避免客户流失。\n",
    "5. 一般价值客户:这类客户的当前价值一般,要适当投入资源进行维系。  \n",
    "6. 一般发展客户:这类客户的潜在价值一般,要适度开发,逐步提高其价值。\n",
    "7. 一般保持客户:这类客户的当前价值一般,要定期联系,维持良好的客户关系。\n",
    "8. 一般挽留客户:这类客户存在一定的流失风险,要适度联系,减少流失概率。\n",
    "\n",
    "\n",
    "- KMeans算法更加智能和客观,但需要高度的数据分析能力,并且结果也依赖于数据和模型设定。\n",
    "- RFM模型简单直接,易于理解和应用,但存在一定主观性。\n",
    "\n",
    "对于一些数据集不够复杂,且需要比较简单规则化的分类,RFM模型是一个不错的选择。对于数据集复杂,需要发现隐藏数据特征的情况,KMeans算法或更高级的机器学习模型会更加适用。也可以考虑将二者结合,使用KMeans获取客户簇,再为每个簇指定RFM代码,以达到更佳的效果。\n",
    "总之,选择何种模型需要根据实际的业务场景和数据特征进行判断。理解各模型的优缺点,可以帮助我们做出更精准的选择。"
   ]
  },
  {
   "cell_type": "markdown",
   "id": "e24bbc80",
   "metadata": {},
   "source": [
    "## 参考文献\n",
    "\n",
    "- [RFM model for customer purchase behavior using K-Means algorithm](https://www.sciencedirect.com/science/article/pii/S1319157819309802)\n",
    "- [Exploring Customers Segmentation With RFM Analysis and K-Means Clustering](https://medium.com/web-mining-is688-spring-2021/exploring-customers-segmentation-with-rfm-analysis-and-k-means-clustering-118f9ffcd9f0)\n",
    "- [RFM Customer Segmentation with K Means](https://rstudio-pubs-static.s3.amazonaws.com/671942_d7c20cc5f25d4fc2ac33c3556fc13e88.html)\n",
    "- [Kaggle英国电商数据分析--k-means与RFM模型结合进行用户群体划分](https://blog.csdn.net/qq_45694768/article/details/121590772)\n",
    "- [基于RFM和K-Means的用户分群](https://blog.csdn.net/ballhacker/article/details/107722255)\n",
    "- [RFM模型及其用户运营实践](https://blog.csdn.net/yeonki/article/details/50573235)\n",
    "- [客户价值分析【python建立RFM模型】](https://juejin.cn/post/7068946548066877447)\n",
    "- [Customer-Segmentation-using-K-mean](https://github.com/jasneekchugh/Customer-Segmentation-using-K-mean/blob/main/K-means%20clustering%20using%20RFM%20variables.ipynb)"
   ]
  }
 ],
 "metadata": {
  "kernelspec": {
   "display_name": "Python 3 (ipykernel)",
   "language": "python",
   "name": "python3"
  },
  "language_info": {
   "codemirror_mode": {
    "name": "ipython",
    "version": 3
   },
   "file_extension": ".py",
   "mimetype": "text/x-python",
   "name": "python",
   "nbconvert_exporter": "python",
   "pygments_lexer": "ipython3",
   "version": "3.10.11"
  },
  "toc-autonumbering": true,
  "toc-showcode": false,
  "toc-showmarkdowntxt": false,
  "toc-showtags": false
 },
 "nbformat": 4,
 "nbformat_minor": 5
}
